{
  "nbformat": 4,
  "nbformat_minor": 0,
  "metadata": {
    "colab": {
      "provenance": []
    },
    "kernelspec": {
      "name": "python3",
      "display_name": "Python 3"
    },
    "language_info": {
      "name": "python"
    }
  },
  "cells": [
    {
      "cell_type": "code",
      "execution_count": null,
      "metadata": {
        "id": "g22PYewuMcNg"
      },
      "outputs": [],
      "source": [
        "# Convert text to vectors(using term frequency) and apply cosine similarity to provide closeness among two text\n",
        "#Method-2\n",
        "!pip install scikit-learn\n",
        "import numpy as np\n",
        "from sklearn.feature_extraction.text import TfidfVectorizer\n",
        "from sklearn.metrics.pairwise import cosine_similarity\n",
        "\n",
        "# Function to convert text to a vector using TF-IDF\n",
        "def text_to_vector(text):\n",
        "    vectorizer = TfidfVectorizer(stop_words='english')\n",
        "    tfidf_matrix = vectorizer.fit_transform([text])\n",
        "    return tfidf_matrix\n",
        "\n",
        "# Cosine similarity function using the sklearn method\n",
        "def cosine_similarity_custom(vector1, vector2):\n",
        "    return cosine_similarity(vector1, vector2)[0][0]\n",
        "\n",
        "# Cosine similarity using term frequency (TF)\n",
        "def cosine_similarity_tf(text1, text2):\n",
        "    vectorizer = TfidfVectorizer(use_idf=False, stop_words='english')\n",
        "    tf_matrix = vectorizer.fit_transform([text1, text2])\n",
        "    return cosine_similarity(tf_matrix[0:1], tf_matrix[1:2])[0][0]\n",
        "\n",
        "# Text samples\n",
        "text1 = \"The weather is good today.\"\n",
        "text2 = \"Today's weather is pleasant.\"\n",
        "\n",
        "# Convert the text to vectors\n",
        "vector1 = text_to_vector(text1)\n",
        "vector2 = text_to_vector(text2)\n",
        "\n",
        "# Calculate cosine similarity\n",
        "similarity = cosine_similarity_custom(vector1, vector2)\n",
        "print(\"Cosine Similarity:\", similarity)\n",
        "\n",
        "# Calculate TF-based cosine similarity\n",
        "similarity_tf = cosine_similarity_tf(text1, text2)\n",
        "print(\"Cosine Similarity with TF:\", similarity_tf)"
      ]
    }
  ]
}